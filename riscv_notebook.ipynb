{
 "cells": [
  {
   "cell_type": "markdown",
   "metadata": {},
   "source": [
    "# RISC-V Baseline Jupyter Notebook"
   ]
  },
  {
   "cell_type": "markdown",
   "metadata": {},
   "source": [
    "### Import Libraries"
   ]
  },
  {
   "cell_type": "code",
   "execution_count": null,
   "metadata": {},
   "outputs": [],
   "source": [
    "# Import Libraries\n",
    "from pynq import Overlay\n",
    "from time import sleep\n",
    "from pynq.overlays.base import BaseOverlay\n",
    "from pynq.lib import Pmod_ADC\n",
    "%matplotlib inline\n",
    "import matplotlib.pyplot as plt\n",
    "import struct"
   ]
  },
  {
   "cell_type": "markdown",
   "metadata": {},
   "source": [
    "### Import Overlay / Set Up Signals"
   ]
  },
  {
   "cell_type": "code",
   "execution_count": null,
   "metadata": {},
   "outputs": [],
   "source": [
    "# Load RISCV2Core Processor\n",
    "rv = Overlay(\"RV2Core.bit\")\n",
    "# Define Input Signal (AXI GPIO)\n",
    "rstN = rv.rstN\n",
    "step = rv.step\n",
    "runAll = rv.runAll\n",
    "hostCtrl = rv.hostCtrl\n",
    "host_memWr = rv.host_memWr\n",
    "host_memAdd = rv.host_memAdd\n",
    "host_datToMem = rv.host_datToMem\n",
    "# Define Output Signal (AXI GPIO)\n",
    "datToHost = rv.datToHost\n",
    "# Define Register Banks\n",
    "ABI_Array = ['zero','ra','sp','gp','tp','t0','t1','t2','s0/fp','s1','a0','a1','a2','a3','a4','a5','a6','a7',\n",
    "             's2','s3','s4','s5','s6','s7','s8','s9','s10','s11','t3','t4','t5','t6']"
   ]
  },
  {
   "cell_type": "markdown",
   "metadata": {},
   "source": [
    "### Project Set Up"
   ]
  },
  {
   "cell_type": "code",
   "execution_count": null,
   "metadata": {},
   "outputs": [],
   "source": [
    "# This block will contain all the neccessary flags and variables\n",
    "\n",
    "# Print Verbose - Print all information\n",
    "verbose_prints = True\n",
    "\n",
    "# Paths to Machine Code\n",
    "IM0_filename = \"asm_examples/swapX3DigitX4WithX5DigitX6.rv\"\n",
    "IM1_filename = \"asm_examples/blank.txt\"\n",
    "\n",
    "# Number of Steps to Run\n",
    "number_of_steps = 300\n",
    "\n",
    "# Period\n",
    "period = 2e-08 #20ns"
   ]
  },
  {
   "cell_type": "markdown",
   "metadata": {},
   "source": [
    "### Read Instruction Memory"
   ]
  },
  {
   "cell_type": "code",
   "execution_count": null,
   "metadata": {},
   "outputs": [],
   "source": [
    "IM0Dat = []\n",
    "IM1Dat = []\n",
    "\n",
    "for RVCore in range(0,2):\n",
    "    hostCtrl.write(0,int('1',2))\n",
    "    host_memWr.write(0,int('0',2))\n",
    "    bit = str(RVCore)\n",
    "    host_memAdd_31_16 = int('0000000000000000',2)\n",
    "    host_memAdd_15 = int(bit,2)\n",
    "    host_memAdd_14_13 = int('00',2) #binary\n",
    "    host_memAdd_12_6 = int('0000000',2) #binary\n",
    "    host_memAdd_5_0 = int('000000',2) #binary\n",
    "    host_memAdd_str = '{0:016b}'.format(host_memAdd_31_16) + '{0:01b}'.format(host_memAdd_15) + '{0:02b}'.format(host_memAdd_14_13) + '{0:07b}'.format(host_memAdd_12_6) + '{0:06b}'.format(host_memAdd_5_0)\n",
    "    if RVCore == 0:\n",
    "        print(\"Instruction Memory of RVCore0\\n\")\n",
    "    elif RVCore == 1:\n",
    "        print(\"\\nInstruction Memory of RVCore1\\n\")\n",
    "    for i in range(0,64):\n",
    "        host_memAdd_5_0 = int('{0:06b}'.format(i),2)\n",
    "        host_memAdd_str = '{0:016b}'.format(host_memAdd_31_16) + '{0:01b}'.format(host_memAdd_15) + '{0:02b}'.format(host_memAdd_14_13) + '{0:07b}'.format(host_memAdd_12_6) + '{0:06b}'.format(host_memAdd_5_0)\n",
    "        host_memAdd.write(0,int(host_memAdd_str,2))\n",
    "        if RVCore == 0:\n",
    "            IM0Dat.append(hex(datToHost.read()))\n",
    "        elif RVCore == 1:\n",
    "            IM1Dat.append(hex(datToHost.read()))\n",
    "        if verbose_prints:\n",
    "            if(hex(datToHost.read()) != \"0x0\"):\n",
    "                print(\"Host Address:\", hex(i), \"\\tData: \", hex(datToHost.read()))\n",
    "        elif verbose_prints:\n",
    "            print(\"Host Address:\", hex(i), \"\\tData: \", hex(datToHost.read()))\n",
    "        sleep(period) \n",
    "    hostCtrl.write(0,int('0',2))\n",
    "    host_memAdd_15 = int('0',2) \n",
    "    host_memAdd_5_0 = int('000000',2) \n",
    "    host_memAdd_str = '{0:016b}'.format(host_memAdd_31_16) + '{0:01b}'.format(host_memAdd_15) + '{0:02b}'.format(host_memAdd_14_13) + '{0:07b}'.format(host_memAdd_12_6) + '{0:06b}'.format(host_memAdd_5_0)\n",
    "    host_memAdd.write(0,int(host_memAdd_str,2))\n",
    "    sleep(10*period)\n",
    "    \n",
    "print(\"\\nOperation Finished\")"
   ]
  },
  {
   "cell_type": "markdown",
   "metadata": {},
   "source": [
    "### Read Memory Bank"
   ]
  },
  {
   "cell_type": "code",
   "execution_count": null,
   "metadata": {},
   "outputs": [],
   "source": [
    "MEM0Dat = []\n",
    "MEM1Dat = []\n",
    "\n",
    "for RVCore in range(0,2):\n",
    "    hostCtrl.write(0,int('1',2)) \n",
    "    host_memWr.write(0,int('0',2)) \n",
    "    bit = str(RVCore)\n",
    "    host_memAdd_31_16 = int('0000000000000000',2)\n",
    "    host_memAdd_15 = int(bit,2)\n",
    "    host_memAdd_14_13 = int('01',2) #binary\n",
    "    host_memAdd_12_7 = int('000000',2) #binary\n",
    "    host_memAdd_6_0 = int('0000000',2) #binary\n",
    "    host_memAdd_str = '{0:016b}'.format(host_memAdd_31_16) + '{0:01b}'.format(host_memAdd_15) + '{0:02b}'.format(host_memAdd_14_13) + '{0:06b}'.format(host_memAdd_12_7) + '{0:07b}'.format(host_memAdd_6_0)\n",
    "    if RVCore == 0:\n",
    "        print(\"Memory of RVCore0\\n\")\n",
    "    elif RVCore == 1:\n",
    "        print(\"\\nMemory of RVCore1\\n\")\n",
    "    for i in range(0,68):\n",
    "        host_memAdd_6_0 = int('{0:07b}'.format(i),2)\n",
    "        host_memAdd_str = '{0:016b}'.format(host_memAdd_31_16) + '{0:01b}'.format(host_memAdd_15) + '{0:02b}'.format(host_memAdd_14_13) + '{0:06b}'.format(host_memAdd_12_7) + '{0:07b}'.format(host_memAdd_6_0)\n",
    "        host_memAdd.write(0,int(host_memAdd_str,2))\n",
    "        if RVCore == 0:\n",
    "            MEM0Dat.append(hex(datToHost.read()))\n",
    "        elif RVCore == 1:\n",
    "            MEM1Dat.append(hex(datToHost.read()))\n",
    "        if verbose_prints:\n",
    "            if(hex(datToHost.read()) != \"0x0\"):\n",
    "                print(\"Host Address:\", hex(i), \"\\tData: \", hex(datToHost.read()))\n",
    "        elif verbose_prints:\n",
    "            print(\"Host Address:\", hex(i), \"\\tData: \", hex(datToHost.read()))\n",
    "        sleep(period)\n",
    "    hostCtrl.write(0,int('0',2))\n",
    "    host_memAdd_15 = int('0',2)\n",
    "    host_memAdd_6_0 = int('0000000',2)\n",
    "    host_memAdd_str = '{0:016b}'.format(host_memAdd_31_16) + '{0:01b}'.format(host_memAdd_15) + '{0:02b}'.format(host_memAdd_14_13) + '{0:06b}'.format(host_memAdd_12_7) + '{0:07b}'.format(host_memAdd_6_0)\n",
    "    host_memAdd.write(0,int(host_memAdd_str,2))\n",
    "    sleep(10*period)\n",
    "    \n",
    "print(\"\\nOperation Finished\")"
   ]
  },
  {
   "cell_type": "markdown",
   "metadata": {},
   "source": [
    "### Read Register Bank"
   ]
  },
  {
   "cell_type": "code",
   "execution_count": null,
   "metadata": {},
   "outputs": [],
   "source": [
    "RB0Dat = []\n",
    "RB1Dat = []\n",
    "\n",
    "for RVCore in range(0,2):\n",
    "    hostCtrl.write(0,int('1',2))\n",
    "    host_memWr.write(0,int('0',2))\n",
    "    bit = str(RVCore)\n",
    "    host_memAdd_15 = int(bit,2)\n",
    "    host_memAdd_14_13 = int('10',2) #binary\n",
    "    host_memAdd_12_5 = int('00000000',2) #binary\n",
    "    host_memAdd_4_0 = int('00000',2) #binary\n",
    "    host_memAdd_str = '{0:016b}'.format(host_memAdd_31_16) + '{0:01b}'.format(host_memAdd_15) + '{0:02b}'.format(host_memAdd_14_13) + '{0:08b}'.format(host_memAdd_12_5) + '{0:05b}'.format(host_memAdd_4_0)\n",
    "    if RVCore == 0:\n",
    "        print(\"Register Bank of RVCore0\\n\")\n",
    "    elif RVCore == 1:\n",
    "        print(\"\\nRegister Bank of RVCore1\\n\")\n",
    "    for i in range(0,32):\n",
    "        host_memAdd_4_0 = int('{0:05b}'.format(i),2)\n",
    "        host_memAdd_str = '{0:016b}'.format(host_memAdd_31_16) + '{0:01b}'.format(host_memAdd_15) + '{0:02b}'.format(host_memAdd_14_13) + '{0:08b}'.format(host_memAdd_12_5) + '{0:05b}'.format(host_memAdd_4_0)\n",
    "        host_memAdd.write(0,int(host_memAdd_str,2)) \n",
    "        if RVCore == 0:\n",
    "            RB0Dat.append(hex(datToHost.read()))\n",
    "        elif RVCore == 1:\n",
    "            RB1Dat.append(hex(datToHost.read()))\n",
    "        regBankStr = \"X\"+\"{:02d}\".format(i)\n",
    "        if verbose_prints:\n",
    "            if(hex(datToHost.read()) != \"0x0\"):\n",
    "                print(regBankStr, '  ', ABI_Array[i], '\\tData: ',hex(datToHost.read()))\n",
    "        elif verbose_prints:\n",
    "            print(regBankStr, '  ', ABI_Array[i], '\\tData: ',hex(datToHost.read()))\n",
    "        sleep(period)\n",
    "    hostCtrl.write(0,int('0',2))\n",
    "    host_memAdd_15 = int('0',2)\n",
    "    host_memAdd_4_0 = int('00000',2)\n",
    "    host_memAdd_str = '{0:016b}'.format(host_memAdd_31_16) + '{0:01b}'.format(host_memAdd_15) + '{0:02b}'.format(host_memAdd_14_13) + '{0:08b}'.format(host_memAdd_12_5) + '{0:05b}'.format(host_memAdd_4_0)\n",
    "    host_memAdd.write(0,int(host_memAdd_str,2))\n",
    "    sleep(10*period)\n",
    "    \n",
    "print(\"\\nOperation Finished\")    "
   ]
  },
  {
   "cell_type": "markdown",
   "metadata": {},
   "source": [
    "### Read Machine Code from Files"
   ]
  },
  {
   "cell_type": "code",
   "execution_count": null,
   "metadata": {},
   "outputs": [],
   "source": [
    "IM0Array = []; IM1Array = []\n",
    "for RVCore in range(0,2):\n",
    "    string = ''; list = []; fullString = ''; data = []; strArray = ''; row = 0\n",
    "    instrArray = []\n",
    "    if RVCore == 0:\n",
    "        file = open(IM0_filename)\n",
    "        string = file.read(); file.close\n",
    "        instruction = string.split('\\n')\n",
    "    elif RVCore == 1:\n",
    "        file = open(IM1_filename)\n",
    "        string = file.read(); file.close\n",
    "        instruction = string.split('\\n')\n",
    "    for i in range(0,len(instruction)):\n",
    "        if (len(instruction[i]) == 10):\n",
    "            fullString = fullString + instruction[i] + '\\n'\n",
    "        elif(len(instruction[i]) == 8):\n",
    "            fullString = fullString + \"0x\" + instruction[i] + '\\n'\n",
    "    for i in range(0,(64-len(instruction))):\n",
    "            fullString = fullString + '0x00000000' + '\\n'\n",
    "    data = fullString.split('\\n')\n",
    "    for indx in range(0,len(data)-1):\n",
    "        if indx == 63:\n",
    "            strArray = strArray + data[indx]\n",
    "        else:\n",
    "            strArray = strArray + data[indx] + \", \"\n",
    "        row = row + 1\n",
    "        if row == 8:\n",
    "            if indx == 63:\n",
    "                strArray = strArray\n",
    "            else:\n",
    "                strArray = strArray + \"\\n\"\n",
    "            row = 0     \n",
    "    if verbose_prints:\n",
    "        IMArrayStr = 'IM' + str(RVCore) + 'Array = [' + strArray + ']'\n",
    "        print(IMArrayStr, '\\n')\n",
    "        \n",
    "    instrArray = strArray.split(\", \")\n",
    "    for i in instrArray:\n",
    "        if RVCore == 0:\n",
    "            IM0Array.append(int(i,16))\n",
    "        elif RVCore == 1:\n",
    "            IM1Array.append(int(i,16))\n",
    "print(\"\\nOperation Finished\")"
   ]
  },
  {
   "cell_type": "markdown",
   "metadata": {},
   "source": [
    "### Write Instruction Memory"
   ]
  },
  {
   "cell_type": "code",
   "execution_count": null,
   "metadata": {},
   "outputs": [],
   "source": [
    "for RVCore in range(0,2):\n",
    "    hostCtrl.write(0,int('1',2))\n",
    "    host_memWr.write(0,int('1',2))\n",
    "    bit = str(RVCore)\n",
    "    host_memAdd_15 = int(bit,2)\n",
    "    host_memAdd_14_13 = int('00',2) #binary\n",
    "    host_memAdd_12_6 = int('0000000',2) #binary\n",
    "    host_memAdd_5_0 = int('000000',2) #binary\n",
    "    host_memAdd_str = '{0:016b}'.format(host_memAdd_31_16) + '{0:01b}'.format(host_memAdd_15) + '{0:02b}'.format(host_memAdd_14_13) + '{0:07b}'.format(host_memAdd_12_6) + '{0:06b}'.format(host_memAdd_5_0)\n",
    "    if RVCore == 0:\n",
    "        print(\"Write to IM0(Instruction Memory of RVCore0)\\n\")\n",
    "    elif RVCore == 1:\n",
    "        print(\"\\nWrite to IM1(Instruction Memory of RVCore1)\\n\")    \n",
    "    for i in range(0,64):\n",
    "        host_memAdd_5_0 = int('{0:06b}'.format(i),2)\n",
    "        host_memAdd_str = '{0:016b}'.format(host_memAdd_31_16) + '{0:01b}'.format(host_memAdd_15) + '{0:02b}'.format(host_memAdd_14_13) + '{0:07b}'.format(host_memAdd_12_6) + '{0:06b}'.format(host_memAdd_5_0)\n",
    "        host_memAdd.write(0,int(host_memAdd_str,2))\n",
    "        if RVCore == 0:\n",
    "            host_datToMem.write(0,IM0Array[i])\n",
    "            if verbose_prints:\n",
    "                print(\"Address: \",hex(int(host_memAdd_str,2)), \"\\t Host Address: \", hex(i), \"\\tData: \",hex(IM0Array[i]))\n",
    "        elif RVCore == 1:\n",
    "            host_datToMem.write(0,IM1Array[i])\n",
    "            if verbose_prints:\n",
    "                print(\"Address: \",hex(int(host_memAdd_str,2)), \"\\t Host Address: \", hex(i), \"\\tData: \",hex(IM1Array[i]))\n",
    "        sleep(period)\n",
    "    hostCtrl.write(0,int('0',2))\n",
    "    host_memWr.write(0,int('0',2))\n",
    "    host_memAdd_15 = int('0',2) #binary\n",
    "    host_memAdd_5_0 = int('000000',2) #binary\n",
    "    sleep(10*period)  \n",
    "print(\"\\nOperation Finished\")"
   ]
  },
  {
   "cell_type": "markdown",
   "metadata": {},
   "source": [
    "### Write Memory Bank"
   ]
  },
  {
   "cell_type": "code",
   "execution_count": null,
   "metadata": {},
   "outputs": [],
   "source": [
    "# Not fixed yet at all\n",
    "RVCore = 1\n",
    "hostCtrl.write(0,int('1',2))\n",
    "host_memWr.write(0,int('1',2))\n",
    "bit = str(RVCore)\n",
    "host_memAdd_15 = int(bit,2) \n",
    "host_memAdd_14_13 = int('01',2) \n",
    "host_memAdd_12_6 = int('0000000',2) \n",
    "host_memAdd_5_0 = int('000000',2) \n",
    "host_memAdd_str = '{0:016b}'.format(host_memAdd_31_16) + '{0:01b}'.format(host_memAdd_15) + '{0:02b}'.format(host_memAdd_14_13) + '{0:07b}'.format(host_memAdd_12_6) + '{0:06b}'.format(host_memAdd_5_0)\n",
    "host_memAdd.write(0,int(host_memAdd_str,2))\n",
    "if RVCore == 0:\n",
    "    print(\"Memory of RVCore0\\n\")\n",
    "elif RVCore == 1:\n",
    "    print(\"\\nMemory of RVCore1\\n\")\n",
    "for i in range(0,32):\n",
    "    host_memAdd_5_0 = int('{0:06b}'.format(i),2)\n",
    "    host_memAdd_str = '{0:016b}'.format(host_memAdd_31_16) + '{0:01b}'.format(host_memAdd_15) + '{0:02b}'.format(host_memAdd_14_13) + '{0:07b}'.format(host_memAdd_12_6) + '{0:06b}'.format(host_memAdd_5_0)\n",
    "    host_memAdd.write(0,int(host_memAdd_str,2))\n",
    "    data = int(1234, 2) # Placeholder for real data\n",
    "    host_datToMem.write(0,data)\n",
    "    if verbose_prints:\n",
    "        print(\"Host Address: \", hex(i),\"\\tData: \", hex(data));\n",
    "    sleep(period)\n",
    "host_memAdd_15 = int('0',2) #binary\n",
    "host_memAdd_14_13 = int('00',2) #binary\n",
    "host_memAdd_5_0 = int('000000',2) #binary\n",
    "host_memAdd_str = '{0:016b}'.format(host_memAdd_31_16) + '{0:01b}'.format(host_memAdd_15) + '{0:02b}'.format(host_memAdd_14_13) + '{0:07b}'.format(host_memAdd_12_6) + '{0:06b}'.format(host_memAdd_5_0)\n",
    "host_memAdd.write(0,int(host_memAdd_str,2))\n",
    "sleep(10*period)    \n",
    "print(\"\\nOperation Finished\")"
   ]
  },
  {
   "cell_type": "markdown",
   "metadata": {},
   "source": [
    "### Run Steps"
   ]
  },
  {
   "cell_type": "code",
   "execution_count": null,
   "metadata": {},
   "outputs": [],
   "source": [
    "hostCtrl.write(0,int('0',2))\n",
    "host_memWr.write(0,int('0',2))\n",
    "for i in range(0,number_of_steps):\n",
    "    step.write(0,int('1',2))\n",
    "    sleep(period)\n",
    "    step.write(0,int('0',2))\n",
    "    sleep(period)\n",
    "print(\"\\nOperation Finished\")"
   ]
  }
 ],
 "metadata": {
  "language_info": {
   "name": "python"
  }
 },
 "nbformat": 4,
 "nbformat_minor": 2
}
