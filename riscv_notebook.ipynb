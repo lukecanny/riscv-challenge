{
 "cells": [
  {
   "cell_type": "markdown",
   "metadata": {},
   "source": [
    "# RISC-V Baseline Jupyter Notebook"
   ]
  },
  {
   "cell_type": "markdown",
   "metadata": {},
   "source": [
    "### Import Libraries"
   ]
  },
  {
   "cell_type": "code",
   "execution_count": null,
   "metadata": {},
   "outputs": [],
   "source": [
    "# Import Libraries\n",
    "from pynq import Overlay\n",
    "from time import sleep\n",
    "from pynq.overlays.base import BaseOverlay\n",
    "from pynq.lib import Pmod_ADC\n",
    "%matplotlib inline\n",
    "import matplotlib.pyplot as plt\n",
    "import struct"
   ]
  },
  {
   "cell_type": "markdown",
   "metadata": {},
   "source": [
    "### Import Overlay / Set Up Signals"
   ]
  },
  {
   "cell_type": "code",
   "execution_count": null,
   "metadata": {},
   "outputs": [],
   "source": [
    "# Load RISCV2Core Processor\n",
    "rv = Overlay(\"RV2Core.bit\")\n",
    "# Define Input Signal (AXI GPIO)\n",
    "rstN = rv.rstN\n",
    "step = rv.step\n",
    "runAll = rv.runAll\n",
    "hostCtrl = rv.hostCtrl\n",
    "host_memWr = rv.host_memWr\n",
    "host_memAdd = rv.host_memAdd\n",
    "host_datToMem = rv.host_datToMem\n",
    "# Define Output Signal (AXI GPIO)\n",
    "datToHost = rv.datToHost\n",
    "# Define Internal Signal/Variables\n",
    "period = 2e-08 #20ns\n",
    "ABI_Array = ['zero','ra','sp','gp','tp','t0','t1','t2','s0/fp','s1','a0','a1','a2','a3','a4','a5','a6','a7',\n",
    "             's2','s3','s4','s5','s6','s7','s8','s9','s10','s11','t3','t4','t5','t6']\n",
    "WRITE_VIEW = 1; #0 = No printing. 1 = Print everything\n",
    "DATA_VIEW = 0; #0 = Print Everything. 1 = Print only Data Locations"
   ]
  },
  {
   "cell_type": "markdown",
   "metadata": {},
   "source": []
  }
 ],
 "metadata": {
  "language_info": {
   "name": "python"
  }
 },
 "nbformat": 4,
 "nbformat_minor": 2
}
